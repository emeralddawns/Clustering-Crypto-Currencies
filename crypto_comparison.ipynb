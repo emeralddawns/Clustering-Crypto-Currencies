{
 "cells": [
  {
   "cell_type": "code",
   "execution_count": 1,
   "id": "1fa42aa6-003b-4ed0-a9bf-1a1039b719f5",
   "metadata": {},
   "outputs": [],
   "source": [
    "import numpy as np\n",
    "import pandas as pd\n",
    "from pathlib import Path\n",
    "from sklearn.preprocessing import StandardScaler"
   ]
  },
  {
   "cell_type": "code",
   "execution_count": 2,
   "id": "43e5f94f-a9ae-492f-96f3-b16b9c1700e9",
   "metadata": {},
   "outputs": [
    {
     "data": {
      "text/html": [
       "<div>\n",
       "<style scoped>\n",
       "    .dataframe tbody tr th:only-of-type {\n",
       "        vertical-align: middle;\n",
       "    }\n",
       "\n",
       "    .dataframe tbody tr th {\n",
       "        vertical-align: top;\n",
       "    }\n",
       "\n",
       "    .dataframe thead th {\n",
       "        text-align: right;\n",
       "    }\n",
       "</style>\n",
       "<table border=\"1\" class=\"dataframe\">\n",
       "  <thead>\n",
       "    <tr style=\"text-align: right;\">\n",
       "      <th></th>\n",
       "      <th>Unnamed: 0</th>\n",
       "      <th>CoinName</th>\n",
       "      <th>Algorithm</th>\n",
       "      <th>IsTrading</th>\n",
       "      <th>ProofType</th>\n",
       "      <th>TotalCoinsMined</th>\n",
       "      <th>TotalCoinSupply</th>\n",
       "    </tr>\n",
       "  </thead>\n",
       "  <tbody>\n",
       "    <tr>\n",
       "      <th>0</th>\n",
       "      <td>42</td>\n",
       "      <td>42 Coin</td>\n",
       "      <td>Scrypt</td>\n",
       "      <td>True</td>\n",
       "      <td>PoW/PoS</td>\n",
       "      <td>4.199995e+01</td>\n",
       "      <td>42</td>\n",
       "    </tr>\n",
       "    <tr>\n",
       "      <th>1</th>\n",
       "      <td>365</td>\n",
       "      <td>365Coin</td>\n",
       "      <td>X11</td>\n",
       "      <td>True</td>\n",
       "      <td>PoW/PoS</td>\n",
       "      <td>NaN</td>\n",
       "      <td>2300000000</td>\n",
       "    </tr>\n",
       "    <tr>\n",
       "      <th>2</th>\n",
       "      <td>404</td>\n",
       "      <td>404Coin</td>\n",
       "      <td>Scrypt</td>\n",
       "      <td>True</td>\n",
       "      <td>PoW/PoS</td>\n",
       "      <td>1.055185e+09</td>\n",
       "      <td>532000000</td>\n",
       "    </tr>\n",
       "    <tr>\n",
       "      <th>3</th>\n",
       "      <td>611</td>\n",
       "      <td>SixEleven</td>\n",
       "      <td>SHA-256</td>\n",
       "      <td>True</td>\n",
       "      <td>PoW</td>\n",
       "      <td>NaN</td>\n",
       "      <td>611000</td>\n",
       "    </tr>\n",
       "    <tr>\n",
       "      <th>4</th>\n",
       "      <td>808</td>\n",
       "      <td>808</td>\n",
       "      <td>SHA-256</td>\n",
       "      <td>True</td>\n",
       "      <td>PoW/PoS</td>\n",
       "      <td>0.000000e+00</td>\n",
       "      <td>0</td>\n",
       "    </tr>\n",
       "  </tbody>\n",
       "</table>\n",
       "</div>"
      ],
      "text/plain": [
       "  Unnamed: 0   CoinName Algorithm  IsTrading ProofType  TotalCoinsMined  \\\n",
       "0         42    42 Coin    Scrypt       True   PoW/PoS     4.199995e+01   \n",
       "1        365    365Coin       X11       True   PoW/PoS              NaN   \n",
       "2        404    404Coin    Scrypt       True   PoW/PoS     1.055185e+09   \n",
       "3        611  SixEleven   SHA-256       True       PoW              NaN   \n",
       "4        808        808   SHA-256       True   PoW/PoS     0.000000e+00   \n",
       "\n",
       "  TotalCoinSupply  \n",
       "0              42  \n",
       "1      2300000000  \n",
       "2       532000000  \n",
       "3          611000  \n",
       "4               0  "
      ]
     },
     "execution_count": 2,
     "metadata": {},
     "output_type": "execute_result"
    }
   ],
   "source": [
    "# Read crypto_data.csv into Pandas\n",
    "crypto_df = pd.read_csv(Path('data/crypto_data.csv'))\n",
    "crypto_df.head()"
   ]
  },
  {
   "cell_type": "markdown",
   "id": "08849d45-f8b1-4e82-8ae9-5a38ffb2bbde",
   "metadata": {},
   "source": [
    "## Data Preparation"
   ]
  },
  {
   "cell_type": "code",
   "execution_count": 3,
   "id": "2fb83b4f-36f8-48d0-86a3-0760ab102397",
   "metadata": {},
   "outputs": [
    {
     "name": "stdout",
     "output_type": "stream",
     "text": [
      "Value Counts of Column IsTrading:\n",
      "True     1144\n",
      "False     108\n",
      "Name: IsTrading, dtype: int64\n",
      "----------\n",
      "Count of Nulls:\n",
      "Unnamed: 0           0\n",
      "CoinName             0\n",
      "Algorithm            0\n",
      "IsTrading            0\n",
      "ProofType            0\n",
      "TotalCoinsMined    508\n",
      "TotalCoinSupply      0\n",
      "dtype: int64\n",
      "----------\n",
      "Shape of Data Frame:\n",
      "(1252, 7)\n"
     ]
    }
   ],
   "source": [
    "# Gather information about dataframe for pre-processing\n",
    "print('Value Counts of Column IsTrading:')\n",
    "print(pd.Series(crypto_df['IsTrading']).value_counts())\n",
    "print('----------')\n",
    "print('Count of Nulls:')\n",
    "print(crypto_df.isna().sum())\n",
    "print('----------')\n",
    "print('Shape of Data Frame:')\n",
    "print(crypto_df.shape)"
   ]
  },
  {
   "cell_type": "code",
   "execution_count": 4,
   "id": "b1cb5b08-8eee-4fd1-9d49-fedfaeedc4d3",
   "metadata": {},
   "outputs": [],
   "source": [
    "# Discard all cryptocurrencies that are not being traded and have not been mined\n",
    "crypto_active = crypto_df[(crypto_df['IsTrading'] == True) & (crypto_df['TotalCoinsMined'] > 0)]"
   ]
  },
  {
   "cell_type": "code",
   "execution_count": 5,
   "id": "afb78648-6a87-4de5-88fd-113db9488aa4",
   "metadata": {},
   "outputs": [],
   "source": [
    "# Drop the IsTrading column from the dataframe\n",
    "crypto_active = crypto_active.drop('IsTrading', axis = 1)\n",
    "\n",
    "# Remove all rows that have at least one null value\n",
    "crypto_active = crypto_active.dropna()"
   ]
  },
  {
   "cell_type": "code",
   "execution_count": 6,
   "id": "35ce753b-60ed-4e7c-bd98-0cf59ab7d079",
   "metadata": {},
   "outputs": [
    {
     "name": "stdout",
     "output_type": "stream",
     "text": [
      "Index(['Unnamed: 0', 'CoinName', 'Algorithm', 'ProofType', 'TotalCoinsMined',\n",
      "       'TotalCoinSupply'],\n",
      "      dtype='object')\n",
      "----------\n",
      "Unnamed: 0         0\n",
      "CoinName           0\n",
      "Algorithm          0\n",
      "ProofType          0\n",
      "TotalCoinsMined    0\n",
      "TotalCoinSupply    0\n",
      "dtype: int64\n"
     ]
    }
   ],
   "source": [
    "# Confirm that 'IsTrading' has been dropped and that null values have been removed\n",
    "print(crypto_active.columns)\n",
    "print('----------')\n",
    "print(crypto_active.isna().sum())"
   ]
  },
  {
   "cell_type": "code",
   "execution_count": 7,
   "id": "c267b6e6-8b6f-46d6-a6d4-c485e5a7151b",
   "metadata": {},
   "outputs": [],
   "source": [
    "# Data should be numeric for the machine learning algorithm\n",
    "# Coin names do not contribute to the analysis of the data so the CoinName column will be dropped, as well as 'Unnamed: 0' as that appears to be the shortened form of the CoinName\n",
    "crypto_active = crypto_active.drop(['Unnamed: 0', 'CoinName'], axis = 1)"
   ]
  },
  {
   "cell_type": "code",
   "execution_count": 8,
   "id": "fee601c9-701c-4511-a7e0-5e4625c0c6ce",
   "metadata": {},
   "outputs": [
    {
     "name": "stdout",
     "output_type": "stream",
     "text": [
      "Scrypt                 182\n",
      "X11                     73\n",
      "SHA-256                 48\n",
      "CryptoNight             19\n",
      "PoS                     17\n",
      "                      ... \n",
      "Leased POS               1\n",
      "QUAIT                    1\n",
      "Time Travel              1\n",
      "SkunkHash v2 Raptor      1\n",
      "M7 POW                   1\n",
      "Name: Algorithm, Length: 71, dtype: int64\n",
      "----------\n",
      "PoW                     237\n",
      "PoW/PoS                 176\n",
      "PoS                      86\n",
      "DPoS                      9\n",
      "PoC                       3\n",
      "PoS/PoW                   2\n",
      "HPoW                      1\n",
      "PoW/PoS                   1\n",
      "LPoS                      1\n",
      "POBh                      1\n",
      "PoW and PoS               1\n",
      "dPoW/PoW                  1\n",
      "Proof of Trust            1\n",
      "Proof of Authority        1\n",
      "PoS/PoW/PoT               1\n",
      "PoS/LPoS                  1\n",
      "DPOS                      1\n",
      "PoW + Hive                1\n",
      "TPoS                      1\n",
      "PoA                       1\n",
      "PoST                      1\n",
      "PoW/PoW                   1\n",
      "Zero-Knowledge Proof      1\n",
      "Pos                       1\n",
      "PoW/nPoS                  1\n",
      "Name: ProofType, dtype: int64\n",
      "----------\n",
      "Shape of Data Frame:\n",
      "(532, 4)\n"
     ]
    }
   ],
   "source": [
    "# Analyze column contents of 'Algorithm' and 'ProofType' to determine best way to convert the columns to numerical values\n",
    "print(pd.Series(crypto_active['Algorithm']).value_counts())\n",
    "print('----------')\n",
    "print(pd.Series(crypto_active['ProofType']).value_counts())\n",
    "print('----------')\n",
    "print('Shape of Data Frame:')\n",
    "print(crypto_active.shape)"
   ]
  },
  {
   "cell_type": "code",
   "execution_count": 9,
   "id": "7bf6e128-254d-4a1f-b1a9-32bada4f256f",
   "metadata": {},
   "outputs": [],
   "source": [
    "# Turn Algorithm and ProofType into numerical columns.\n",
    "# pd.get_dummies will result in a large number of columns, so a dictionary of values is going to be used to replace the strings\n",
    "# The number of columns should remain the same\n",
    "\n",
    "algorithm_list = []\n",
    "\n",
    "for algorithm in crypto_active['Algorithm']:\n",
    "    if algorithm not in algorithm_list:\n",
    "        algorithm_list.append(algorithm)\n",
    "        \n",
    "algorithm_dict = {}\n",
    "for index, algorithm in enumerate(algorithm_list):\n",
    "    algorithm_dict.update({algorithm: index})\n",
    "    \n",
    "    \n",
    "prooftype_list = []\n",
    "\n",
    "for prooftype in crypto_active['ProofType']:\n",
    "    if prooftype not in prooftype_list:\n",
    "        prooftype_list.append(prooftype)\n",
    "        \n",
    "prooftype_dict = {}\n",
    "for index, prooftype in enumerate(prooftype_list):\n",
    "    prooftype_dict.update({prooftype: index})\n",
    "    "
   ]
  },
  {
   "cell_type": "code",
   "execution_count": 10,
   "id": "7254ef32-fcac-407e-8d43-4a3ee799c7e2",
   "metadata": {},
   "outputs": [],
   "source": [
    "crypto_active['Algorithm'] = crypto_active['Algorithm'].map(algorithm_dict)\n",
    "crypto_active['ProofType'] = crypto_active['ProofType'].map(prooftype_dict)"
   ]
  },
  {
   "cell_type": "code",
   "execution_count": 11,
   "id": "6483dd7f-e8b4-4ccc-83dc-c56af9c7d143",
   "metadata": {},
   "outputs": [
    {
     "name": "stdout",
     "output_type": "stream",
     "text": [
      "0     182\n",
      "4      73\n",
      "2      48\n",
      "18     19\n",
      "1      17\n",
      "     ... \n",
      "43      1\n",
      "45      1\n",
      "46      1\n",
      "47      1\n",
      "70      1\n",
      "Name: Algorithm, Length: 71, dtype: int64\n",
      "----------\n",
      "1     237\n",
      "0     176\n",
      "2      86\n",
      "10      9\n",
      "3       3\n",
      "7       2\n",
      "15      1\n",
      "23      1\n",
      "22      1\n",
      "21      1\n",
      "20      1\n",
      "19      1\n",
      "18      1\n",
      "17      1\n",
      "16      1\n",
      "12      1\n",
      "14      1\n",
      "13      1\n",
      "11      1\n",
      "9       1\n",
      "8       1\n",
      "6       1\n",
      "5       1\n",
      "4       1\n",
      "24      1\n",
      "Name: ProofType, dtype: int64\n",
      "----------\n",
      "Shape of Data Frame:\n",
      "(532, 4)\n"
     ]
    }
   ],
   "source": [
    "print(pd.Series(crypto_active['Algorithm']).value_counts())\n",
    "print('----------')\n",
    "print(pd.Series(crypto_active['ProofType']).value_counts())\n",
    "print('----------')\n",
    "print('Shape of Data Frame:')\n",
    "print(crypto_active.shape)"
   ]
  },
  {
   "cell_type": "code",
   "execution_count": 12,
   "id": "6bff0f57-d708-46fe-be13-63cfdae3d3dd",
   "metadata": {},
   "outputs": [
    {
     "data": {
      "text/plain": [
       "Algorithm            int64\n",
       "ProofType            int64\n",
       "TotalCoinsMined    float64\n",
       "TotalCoinSupply     object\n",
       "dtype: object"
      ]
     },
     "execution_count": 12,
     "metadata": {},
     "output_type": "execute_result"
    }
   ],
   "source": [
    "crypto_active.dtypes\n",
    "# print(pd.Series(crypto_active['TotalCoinSupply']).value_counts())"
   ]
  },
  {
   "cell_type": "code",
   "execution_count": 14,
   "id": "35c9e5ae-2a8d-4dff-8012-582e8afdf486",
   "metadata": {},
   "outputs": [],
   "source": [
    "# Scale the dataset\n",
    "scaler = StandardScaler().fit(crypto_active)\n",
    "crypto_scaled = scaler.transform(crypto_active)"
   ]
  },
  {
   "cell_type": "code",
   "execution_count": 15,
   "id": "ee2b282e-93b0-4d43-99cf-5a8441a33efc",
   "metadata": {},
   "outputs": [
    {
     "data": {
      "text/plain": [
       "array([[-0.6516109 , -0.48303965, -0.11710817, -0.1528703 ],\n",
       "       [-0.6516109 , -0.48303965, -0.09396955, -0.145009  ],\n",
       "       [-0.59091103, -0.48303965,  0.52494561,  4.48942416],\n",
       "       ...,\n",
       "       [ 0.44098689, -0.16141625, -0.09561336, -0.13217937],\n",
       "       [-0.28741164, -0.16141625, -0.11694817, -0.15255998],\n",
       "       [-0.6516109 ,  0.16020714, -0.11710536, -0.15285552]])"
      ]
     },
     "execution_count": 15,
     "metadata": {},
     "output_type": "execute_result"
    }
   ],
   "source": [
    "crypto_scaled"
   ]
  },
  {
   "cell_type": "code",
   "execution_count": null,
   "id": "ff1adfef-49c5-4392-a2d3-dc5eb87df64e",
   "metadata": {},
   "outputs": [],
   "source": []
  }
 ],
 "metadata": {
  "kernelspec": {
   "display_name": "Python 3",
   "language": "python",
   "name": "python3"
  },
  "language_info": {
   "codemirror_mode": {
    "name": "ipython",
    "version": 3
   },
   "file_extension": ".py",
   "mimetype": "text/x-python",
   "name": "python",
   "nbconvert_exporter": "python",
   "pygments_lexer": "ipython3",
   "version": "3.8.8"
  }
 },
 "nbformat": 4,
 "nbformat_minor": 5
}
