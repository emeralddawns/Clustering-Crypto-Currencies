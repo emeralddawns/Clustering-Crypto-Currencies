{
 "cells": [
  {
   "cell_type": "code",
   "execution_count": 1,
   "id": "1fa42aa6-003b-4ed0-a9bf-1a1039b719f5",
   "metadata": {},
   "outputs": [],
   "source": [
    "import numpy as np\n",
    "import pandas as pd\n",
    "from pathlib import Path\n",
    "import matplotlib.pyplot as plt\n",
    "from sklearn.preprocessing import StandardScaler\n",
    "from sklearn.decomposition import PCA\n",
    "from sklearn.manifold import TSNE\n",
    "from sklearn.cluster import KMeans"
   ]
  },
  {
   "cell_type": "code",
   "execution_count": 2,
   "id": "43e5f94f-a9ae-492f-96f3-b16b9c1700e9",
   "metadata": {},
   "outputs": [
    {
     "data": {
      "text/html": [
       "<div>\n",
       "<style scoped>\n",
       "    .dataframe tbody tr th:only-of-type {\n",
       "        vertical-align: middle;\n",
       "    }\n",
       "\n",
       "    .dataframe tbody tr th {\n",
       "        vertical-align: top;\n",
       "    }\n",
       "\n",
       "    .dataframe thead th {\n",
       "        text-align: right;\n",
       "    }\n",
       "</style>\n",
       "<table border=\"1\" class=\"dataframe\">\n",
       "  <thead>\n",
       "    <tr style=\"text-align: right;\">\n",
       "      <th></th>\n",
       "      <th>Unnamed: 0</th>\n",
       "      <th>CoinName</th>\n",
       "      <th>Algorithm</th>\n",
       "      <th>IsTrading</th>\n",
       "      <th>ProofType</th>\n",
       "      <th>TotalCoinsMined</th>\n",
       "      <th>TotalCoinSupply</th>\n",
       "    </tr>\n",
       "  </thead>\n",
       "  <tbody>\n",
       "    <tr>\n",
       "      <th>0</th>\n",
       "      <td>42</td>\n",
       "      <td>42 Coin</td>\n",
       "      <td>Scrypt</td>\n",
       "      <td>True</td>\n",
       "      <td>PoW/PoS</td>\n",
       "      <td>4.199995e+01</td>\n",
       "      <td>42</td>\n",
       "    </tr>\n",
       "    <tr>\n",
       "      <th>1</th>\n",
       "      <td>365</td>\n",
       "      <td>365Coin</td>\n",
       "      <td>X11</td>\n",
       "      <td>True</td>\n",
       "      <td>PoW/PoS</td>\n",
       "      <td>NaN</td>\n",
       "      <td>2300000000</td>\n",
       "    </tr>\n",
       "    <tr>\n",
       "      <th>2</th>\n",
       "      <td>404</td>\n",
       "      <td>404Coin</td>\n",
       "      <td>Scrypt</td>\n",
       "      <td>True</td>\n",
       "      <td>PoW/PoS</td>\n",
       "      <td>1.055185e+09</td>\n",
       "      <td>532000000</td>\n",
       "    </tr>\n",
       "    <tr>\n",
       "      <th>3</th>\n",
       "      <td>611</td>\n",
       "      <td>SixEleven</td>\n",
       "      <td>SHA-256</td>\n",
       "      <td>True</td>\n",
       "      <td>PoW</td>\n",
       "      <td>NaN</td>\n",
       "      <td>611000</td>\n",
       "    </tr>\n",
       "    <tr>\n",
       "      <th>4</th>\n",
       "      <td>808</td>\n",
       "      <td>808</td>\n",
       "      <td>SHA-256</td>\n",
       "      <td>True</td>\n",
       "      <td>PoW/PoS</td>\n",
       "      <td>0.000000e+00</td>\n",
       "      <td>0</td>\n",
       "    </tr>\n",
       "  </tbody>\n",
       "</table>\n",
       "</div>"
      ],
      "text/plain": [
       "  Unnamed: 0   CoinName Algorithm  IsTrading ProofType  TotalCoinsMined  \\\n",
       "0         42    42 Coin    Scrypt       True   PoW/PoS     4.199995e+01   \n",
       "1        365    365Coin       X11       True   PoW/PoS              NaN   \n",
       "2        404    404Coin    Scrypt       True   PoW/PoS     1.055185e+09   \n",
       "3        611  SixEleven   SHA-256       True       PoW              NaN   \n",
       "4        808        808   SHA-256       True   PoW/PoS     0.000000e+00   \n",
       "\n",
       "  TotalCoinSupply  \n",
       "0              42  \n",
       "1      2300000000  \n",
       "2       532000000  \n",
       "3          611000  \n",
       "4               0  "
      ]
     },
     "execution_count": 2,
     "metadata": {},
     "output_type": "execute_result"
    }
   ],
   "source": [
    "# Read crypto_data.csv into Pandas\n",
    "crypto_df = pd.read_csv(Path('data/crypto_data.csv'))\n",
    "crypto_df.head()"
   ]
  },
  {
   "cell_type": "markdown",
   "id": "08849d45-f8b1-4e82-8ae9-5a38ffb2bbde",
   "metadata": {},
   "source": [
    "# Data Preparation"
   ]
  },
  {
   "cell_type": "code",
   "execution_count": 3,
   "id": "2fb83b4f-36f8-48d0-86a3-0760ab102397",
   "metadata": {},
   "outputs": [
    {
     "name": "stdout",
     "output_type": "stream",
     "text": [
      "Value Counts of Column IsTrading:\n",
      "True     1144\n",
      "False     108\n",
      "Name: IsTrading, dtype: int64\n",
      "----------\n",
      "Count of Nulls:\n",
      "Unnamed: 0           0\n",
      "CoinName             0\n",
      "Algorithm            0\n",
      "IsTrading            0\n",
      "ProofType            0\n",
      "TotalCoinsMined    508\n",
      "TotalCoinSupply      0\n",
      "dtype: int64\n",
      "----------\n",
      "Column Data Types:\n",
      "Unnamed: 0          object\n",
      "CoinName            object\n",
      "Algorithm           object\n",
      "IsTrading             bool\n",
      "ProofType           object\n",
      "TotalCoinsMined    float64\n",
      "TotalCoinSupply     object\n",
      "dtype: object\n",
      "----------\n",
      "Shape of Data:\n",
      "(1252, 7)\n"
     ]
    }
   ],
   "source": [
    "# Gather information about dataframe for pre-processing\n",
    "print('Value Counts of Column IsTrading:')\n",
    "print(pd.Series(crypto_df['IsTrading']).value_counts())\n",
    "print('----------')\n",
    "print('Count of Nulls:')\n",
    "print(crypto_df.isna().sum())\n",
    "print('----------')\n",
    "print('Column Data Types:')\n",
    "print(crypto_df.dtypes)\n",
    "print('----------')\n",
    "print('Shape of Data:')\n",
    "print(crypto_df.shape)"
   ]
  },
  {
   "cell_type": "code",
   "execution_count": 4,
   "id": "b1cb5b08-8eee-4fd1-9d49-fedfaeedc4d3",
   "metadata": {},
   "outputs": [
    {
     "name": "stdout",
     "output_type": "stream",
     "text": [
      "Shape of Data:\n"
     ]
    },
    {
     "data": {
      "text/plain": [
       "(532, 7)"
      ]
     },
     "execution_count": 4,
     "metadata": {},
     "output_type": "execute_result"
    }
   ],
   "source": [
    "# Discard all cryptocurrencies that are not being traded and have not been mined\n",
    "crypto_active = crypto_df[(crypto_df['IsTrading'] == True) & (crypto_df['TotalCoinsMined'] > 0)]\n",
    "\n",
    "print('Shape of Data:')\n",
    "crypto_active.shape"
   ]
  },
  {
   "cell_type": "code",
   "execution_count": 5,
   "id": "afb78648-6a87-4de5-88fd-113db9488aa4",
   "metadata": {},
   "outputs": [
    {
     "name": "stdout",
     "output_type": "stream",
     "text": [
      "Shape of Data:\n",
      "(532, 6)\n",
      "----------\n",
      "Count of Nulls:\n",
      "Unnamed: 0         0\n",
      "CoinName           0\n",
      "Algorithm          0\n",
      "ProofType          0\n",
      "TotalCoinsMined    0\n",
      "TotalCoinSupply    0\n",
      "dtype: int64\n"
     ]
    }
   ],
   "source": [
    "# Drop the IsTrading column from the dataframe\n",
    "crypto_active = crypto_active.drop('IsTrading', axis = 1)\n",
    "\n",
    "# Remove all rows that have at least one null value\n",
    "crypto_active = crypto_active.dropna()\n",
    "\n",
    "print('Shape of Data:')\n",
    "print(crypto_active.shape)\n",
    "print('----------')\n",
    "print('Count of Nulls:')\n",
    "print(crypto_active.isna().sum())"
   ]
  },
  {
   "cell_type": "code",
   "execution_count": 6,
   "id": "c267b6e6-8b6f-46d6-a6d4-c485e5a7151b",
   "metadata": {},
   "outputs": [
    {
     "data": {
      "text/plain": [
       "Index(['Algorithm', 'ProofType', 'TotalCoinsMined', 'TotalCoinSupply'], dtype='object')"
      ]
     },
     "execution_count": 6,
     "metadata": {},
     "output_type": "execute_result"
    }
   ],
   "source": [
    "# Data should be numeric for the machine learning algorithm\n",
    "# Coin names do not contribute to the analysis of the data so the CoinName column will be dropped, as well as 'Unnamed: 0' as that appears to be the shortened form of the CoinName\n",
    "crypto_active = crypto_active.drop(['Unnamed: 0', 'CoinName'], axis = 1)\n",
    "crypto_active.columns"
   ]
  },
  {
   "cell_type": "code",
   "execution_count": 7,
   "id": "2e6fa7ed-eb54-4a8f-bbce-fa57d0449111",
   "metadata": {},
   "outputs": [
    {
     "name": "stdout",
     "output_type": "stream",
     "text": [
      "Algorithm           object\n",
      "ProofType           object\n",
      "TotalCoinsMined    float64\n",
      "TotalCoinSupply    float64\n",
      "dtype: object\n"
     ]
    }
   ],
   "source": [
    "# Turn \"TotalCoinSupply\" from object to float64\n",
    "crypto_active[\"TotalCoinSupply\"] = pd.to_numeric(crypto_active[\"TotalCoinSupply\"])\n",
    "print(crypto_active.dtypes)"
   ]
  },
  {
   "cell_type": "code",
   "execution_count": 8,
   "id": "fee601c9-701c-4511-a7e0-5e4625c0c6ce",
   "metadata": {},
   "outputs": [
    {
     "name": "stdout",
     "output_type": "stream",
     "text": [
      "Scrypt                   182\n",
      "X11                       73\n",
      "SHA-256                   48\n",
      "CryptoNight               19\n",
      "PoS                       17\n",
      "                        ... \n",
      "Argon2d                    1\n",
      "Counterparty               1\n",
      "X11GOST                    1\n",
      "X14                        1\n",
      "VeChainThor Authority      1\n",
      "Name: Algorithm, Length: 71, dtype: int64\n",
      "----------\n",
      "PoW                     237\n",
      "PoW/PoS                 176\n",
      "PoS                      86\n",
      "DPoS                      9\n",
      "PoC                       3\n",
      "PoS/PoW                   2\n",
      "PoST                      1\n",
      "Pos                       1\n",
      "PoW/nPoS                  1\n",
      "PoW + Hive                1\n",
      "PoW/PoW                   1\n",
      "PoS/LPoS                  1\n",
      "POBh                      1\n",
      "PoA                       1\n",
      "PoW/PoS                   1\n",
      "Proof of Trust            1\n",
      "LPoS                      1\n",
      "dPoW/PoW                  1\n",
      "PoS/PoW/PoT               1\n",
      "HPoW                      1\n",
      "PoW and PoS               1\n",
      "Proof of Authority        1\n",
      "TPoS                      1\n",
      "Zero-Knowledge Proof      1\n",
      "DPOS                      1\n",
      "Name: ProofType, dtype: int64\n",
      "----------\n",
      "Shape of Data:\n",
      "(532, 4)\n"
     ]
    }
   ],
   "source": [
    "# Analyze column contents of 'Algorithm' and 'ProofType' to determine best way to convert the columns to numerical values\n",
    "print(pd.Series(crypto_active['Algorithm']).value_counts())\n",
    "print('----------')\n",
    "print(pd.Series(crypto_active['ProofType']).value_counts())\n",
    "print('----------')\n",
    "print('Shape of Data:')\n",
    "print(crypto_active.shape)"
   ]
  },
  {
   "cell_type": "code",
   "execution_count": 9,
   "id": "e0c06bac-e6a6-4989-9acb-93bd705f2c35",
   "metadata": {},
   "outputs": [
    {
     "name": "stdout",
     "output_type": "stream",
     "text": [
      "Shape of Data:\n",
      "(532, 98)\n",
      "After creation of dummy variables, number of features increased from 4 to 98.\n"
     ]
    }
   ],
   "source": [
    "# Turn Algorithm and ProofType into numerical columns\n",
    "# Since Algorith has 71 options and ProofType has 25, 2 columns will become 96, bringing the column total from 4 to 98.\n",
    "crypto_dummies = pd.get_dummies(crypto_active)\n",
    "\n",
    "print('Shape of Data:')\n",
    "print(crypto_dummies.shape)\n",
    "print(f'After creation of dummy variables, number of features increased from {crypto_active.shape[1]} to {crypto_dummies.shape[1]}.')"
   ]
  },
  {
   "cell_type": "code",
   "execution_count": 30,
   "id": "35c9e5ae-2a8d-4dff-8012-582e8afdf486",
   "metadata": {},
   "outputs": [],
   "source": [
    "# Scale the dataset\n",
    "scaler = StandardScaler().fit(crypto_dummies)\n",
    "crypto_scaled = scaler.transform(crypto_dummies)"
   ]
  },
  {
   "cell_type": "markdown",
   "id": "7114b824-5f3a-4cab-9d71-34e067e31939",
   "metadata": {},
   "source": [
    "# Dimensionality Reduction"
   ]
  },
  {
   "cell_type": "markdown",
   "id": "d5c24a5d-b10e-40b0-9e31-c60628990496",
   "metadata": {},
   "source": [
    "### Reduction with Principle Component Analysis (PCA)"
   ]
  },
  {
   "cell_type": "code",
   "execution_count": 11,
   "id": "03270fd1-b529-43af-9ea3-97f928c10130",
   "metadata": {},
   "outputs": [
    {
     "name": "stdout",
     "output_type": "stream",
     "text": [
      "Shape of Data after PCA reduction:\n",
      "(532, 74)\n",
      "After PCA reduction, number of features reduced from 98 to 74.\n"
     ]
    }
   ],
   "source": [
    "# Perform dimensionality reduction with Principle Component Analysis (PCA). Preserve 90% of the explained variance\n",
    "# Conceptual/Python Explanation: https://vitalflux.com/pca-explained-variance-concept-python-example/\n",
    "# Visual Explanation: https://setosa.io/ev/principal-component-analysis/\n",
    "\n",
    "# Initialize PCA model\n",
    "pca = PCA(n_components=0.90)\n",
    "crypto_pca = pca.fit_transform(crypto_scaled) \n",
    "\n",
    "# Observe the change in number of the features\n",
    "print('Shape of Data after PCA reduction:')\n",
    "print(crypto_pca.shape)\n",
    "print(f'After PCA reduction, number of features reduced from {crypto_scaled.shape[1]} to {crypto_pca.shape[1]}.')"
   ]
  },
  {
   "cell_type": "markdown",
   "id": "3347e131-bc06-4180-b572-f3ce0e11ee2d",
   "metadata": {},
   "source": [
    "### Further Reduction with T-distributed Stochastic Neighbor Embedding (t-SNE)"
   ]
  },
  {
   "cell_type": "code",
   "execution_count": 12,
   "id": "ce106144-b578-42d5-9377-374945106ade",
   "metadata": {},
   "outputs": [],
   "source": [
    "# Initialize t-SNE model\n",
    "\n",
    "# learning_rate of 10, 35, 350 , 500, 750, and 1000 tried. All resulted in a reduction to 2 features.\n",
    "tsne = TSNE(learning_rate = 35)"
   ]
  },
  {
   "cell_type": "code",
   "execution_count": 24,
   "id": "9b37f0e8-8e13-41b9-94f2-6550bd4802a8",
   "metadata": {},
   "outputs": [
    {
     "name": "stdout",
     "output_type": "stream",
     "text": [
      "Shape of Data after t-SNE reduction:\n",
      "(532, 2)\n",
      "After t-SNE reduction, number of features reduced from 74 to 2.\n"
     ]
    }
   ],
   "source": [
    "# Reduce dimensions\n",
    "crypto_tsne = tsne.fit_transform(crypto_pca)\n",
    "\n",
    "print('Shape of Data after t-SNE reduction:')\n",
    "print(crypto_tsne.shape)\n",
    "print(f'After t-SNE reduction, number of features reduced from {crypto_pca.shape[1]} to {crypto_tsne.shape[1]}.')"
   ]
  },
  {
   "cell_type": "code",
   "execution_count": 25,
   "id": "40ab1be6-1bf5-49e6-814a-feab9a5b1ffe",
   "metadata": {},
   "outputs": [],
   "source": [
    "# Create a scatter plot of the t-SNE output\n",
    "\n",
    "# The first column of transformed features\n",
    "x_values = crypto_tsne[:,0]\n",
    "\n",
    "# The second column of transformed features\n",
    "y_values = crypto_tsne[:,1]"
   ]
  },
  {
   "cell_type": "code",
   "execution_count": 26,
   "id": "517d8d93-f4c3-49bd-86ea-42a4215f6c95",
   "metadata": {},
   "outputs": [
    {
     "data": {
      "image/png": "[encoded data removed]",
      "text/plain": [
       "<Figure size 432x288 with 1 Axes>"
      ]
     },
     "metadata": {
      "needs_background": "light"
     },
     "output_type": "display_data"
    }
   ],
   "source": [
    "# Visualize the clusters\n",
    "plt.scatter(x_values, y_values)\n",
    "plt.show()"
   ]
  },
  {
   "cell_type": "markdown",
   "id": "0c1a2df7-ab96-4270-a016-bda95b7a3bd9",
   "metadata": {},
   "source": [
    "There appears to be 3-4 distinct clusters."
   ]
  },
  {
   "cell_type": "markdown",
   "id": "147284a3-27a6-4b3f-9c08-2dda280aa1e3",
   "metadata": {},
   "source": [
    "# Cluster Analysis with k-Means"
   ]
  },
  {
   "cell_type": "code",
   "execution_count": 16,
   "id": "b8fbaa27-76bd-4d3f-b2d4-bbb5ba290384",
   "metadata": {},
   "outputs": [
    {
     "name": "stderr",
     "output_type": "stream",
     "text": [
      "C:\\Users\\emera\\anaconda3\\lib\\site-packages\\sklearn\\cluster\\_kmeans.py:881: UserWarning: KMeans is known to have a memory leak on Windows with MKL, when there are less chunks than available threads. You can avoid it by setting the environment variable OMP_NUM_THREADS=3.\n",
      "  warnings.warn(\n"
     ]
    }
   ],
   "source": [
    "# https://en.wikipedia.org/wiki/K-means_clustering\n",
    "\n",
    "# Use a for-loop to determine the inertia for each k between 1 through 10.\n",
    "\n",
    "inertia = []\n",
    "k = list(range(1, 11))\n",
    "\n",
    "# Looking for the best k\n",
    "for i in k:\n",
    "    km = KMeans(n_clusters=i, random_state=0)\n",
    "    km.fit(crypto_tsne)\n",
    "    inertia.append(km.inertia_)\n",
    "    \n",
    "# Define a DataFrame to plot the Elbow Curve using hvPlot\n",
    "elbow_data = {\"k\": k, \"inertia\": inertia}\n",
    "df_elbow = pd.DataFrame(elbow_data)"
   ]
  },
  {
   "cell_type": "code",
   "execution_count": 17,
   "id": "15f0af23-bd13-4623-a701-9495b6bc9f57",
   "metadata": {},
   "outputs": [
    {
     "data": {
      "image/png": "[encoded data removed]",
      "text/plain": [
       "<Figure size 432x288 with 1 Axes>"
      ]
     },
     "metadata": {
      "needs_background": "light"
     },
     "output_type": "display_data"
    }
   ],
   "source": [
    "# Create an elbow plot to identify the best number of clusters\n",
    "\n",
    "plt.plot(df_elbow['k'], df_elbow['inertia'])\n",
    "plt.title(\"K-Means Elbow Plot\")\n",
    "plt.xticks(range(1,11))\n",
    "plt.xlabel('Number of clusters')\n",
    "plt.ylabel('Inertia')\n",
    "plt.show()"
   ]
  },
  {
   "cell_type": "markdown",
   "id": "7efa979d-8e99-438f-96ea-43d2f067e5d8",
   "metadata": {},
   "source": [
    "The elbow of the plot appears at 4 clusters."
   ]
  },
  {
   "cell_type": "markdown",
   "id": "dae54b93-3633-489a-95ad-81fbb9610232",
   "metadata": {},
   "source": [
    "From https://www.codecademy.com/learn/machine-learning/modules/dspath-clustering/cheatsheet:\n",
    "Inertia measures how well a dataset was clustered by K-Means.\n",
    "It is calculated by measuring the distance between each data point and its centroid,\n",
    "squaring this distance, and summing these squares across one cluster."
   ]
  },
  {
   "cell_type": "markdown",
   "id": "622b95f9-3814-482e-a006-e1e973c9ec77",
   "metadata": {},
   "source": [
    " # Analysis / Recommendation"
   ]
  },
  {
   "cell_type": "code",
   "execution_count": 18,
   "id": "ca8ad1da-a721-43d7-ada4-e98f54fcd094",
   "metadata": {},
   "outputs": [
    {
     "name": "stdout",
     "output_type": "stream",
     "text": [
      "The following CryptoCurrencies are being traded, but may not have mined a positive, non-zero amount:\n",
      "\n",
      "0           42 Coin\n",
      "1           365Coin\n",
      "2           404Coin\n",
      "3         SixEleven\n",
      "4               808\n",
      "           ...     \n",
      "1243     Super Zero\n",
      "1244            UOS\n",
      "1245         Beldex\n",
      "1246        Horizen\n",
      "1247    BitcoinPlus\n",
      "Name: CoinName, Length: 1144, dtype: object\n",
      "\n",
      "----------\n",
      "\n",
      "The following CryptoCurrencies are being traded, and have mined a positive, non-zero amount:\n",
      "\n",
      "0           42 Coin\n",
      "2           404Coin\n",
      "5         EliteCoin\n",
      "7           Bitcoin\n",
      "8          Ethereum\n",
      "           ...     \n",
      "1238         ZEPHYR\n",
      "1242        Gapcoin\n",
      "1245         Beldex\n",
      "1246        Horizen\n",
      "1247    BitcoinPlus\n",
      "Name: CoinName, Length: 532, dtype: object\n"
     ]
    }
   ],
   "source": [
    "# Create a report that includes the cryptocurrencies that are on the trading market:\n",
    "coins_in_trade = crypto_df['CoinName'][(crypto_df['IsTrading'] == True)]\n",
    "coins_mined_traded = crypto_df['CoinName'][(crypto_df['IsTrading'] == True) & (crypto_df['TotalCoinsMined'] > 0)]\n",
    "\n",
    "print(\"The following CryptoCurrencies are being traded, but may not have mined a positive, non-zero amount:\\n\")\n",
    "print(coins_in_trade)\n",
    "print('\\n----------\\n')\n",
    "print(\"The following CryptoCurrencies are being traded, and have mined a positive, non-zero amount:\\n\")\n",
    "print(coins_mined_traded)"
   ]
  },
  {
   "cell_type": "markdown",
   "id": "715de955-73b5-48a9-80e6-88cb2906f500",
   "metadata": {},
   "source": [
    "## Can the currently active CryptoCurrencies be clustered?\n",
    "\n",
    "The currently active CryptoCurrencies (those being traded and that have mined a positive, non-zero number of coins) can be grouped into 4 clusters.  This can be viewed when plotting the 2 remaining features after PCA and t-SNE dimension reductions have taken place. This can also be viewed in the k-means elbow plot."
   ]
  }
 ],
 "metadata": {
  "kernelspec": {
   "display_name": "Python 3",
   "language": "python",
   "name": "python3"
  },
  "language_info": {
   "codemirror_mode": {
    "name": "ipython",
    "version": 3
   },
   "file_extension": ".py",
   "mimetype": "text/x-python",
   "name": "python",
   "nbconvert_exporter": "python",
   "pygments_lexer": "ipython3",
   "version": "3.8.8"
  }
 },
 "nbformat": 4,
 "nbformat_minor": 5
}
